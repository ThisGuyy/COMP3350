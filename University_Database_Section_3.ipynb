{
    "metadata": {
        "kernelspec": {
            "name": "SQL",
            "display_name": "SQL",
            "language": "sql"
        },
        "language_info": {
            "name": "sql",
            "version": ""
        }
    },
    "nbformat_minor": 2,
    "nbformat": 4,
    "cells": [
        {
            "cell_type": "markdown",
            "source": [
                "Assessment One - Section 3\n",
                "\n",
                "Create SQL Database for University Database."
            ],
            "metadata": {
                "azdata_cell_guid": "ebd77bf2-f6fe-4370-adf3-1d74cc6e27aa"
            },
            "attachments": {}
        },
        {
            "cell_type": "code",
            "source": [
                "USE master\r\n",
                "GO\r\n",
                "-- Create the new database if it does not exist already\r\n",
                "IF NOT EXISTS (\r\n",
                "    SELECT [name]\r\n",
                "        FROM sys.databases\r\n",
                "        WHERE [name] = N'COMP3350UniversityDB'\r\n",
                ")\r\n",
                "CREATE DATABASE COMP3350UniversityDB\r\n",
                "GO\r\n",
                "\r\n",
                "IF OBJECT_ID('[dbo].[TableName]', 'U') IS NOT NULL\r\n",
                "DROP TABLE [dbo].[TableName]\r\n",
                "GO\r\n",
                "-- Create the table in the specified schema\r\n",
                "CREATE TABLE [dbo].[TableName]\r\n",
                "(\r\n",
                "    [Id] INT NOT NULL PRIMARY KEY, -- Primary Key column\r\n",
                "    [ColumnName2] NVARCHAR(50) NOT NULL,\r\n",
                "    [ColumnName3] NVARCHAR(50) NOT NULL\r\n",
                "    -- Specify more columns here\r\n",
                ");\r\n",
                "GO"
            ],
            "metadata": {
                "azdata_cell_guid": "f256e992-f76c-4587-8b8e-7643214d394f"
            },
            "outputs": [],
            "execution_count": null
        }
    ]
}